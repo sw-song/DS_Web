{
 "cells": [
  {
   "cell_type": "code",
   "execution_count": 1,
   "metadata": {},
   "outputs": [],
   "source": [
    "import pandas as pd"
   ]
  },
  {
   "cell_type": "code",
   "execution_count": 2,
   "metadata": {},
   "outputs": [],
   "source": [
    "data_url = 'https://s3-us-west-2.amazonaws.com/streamlit-demo-data/uber-raw-data-sep14.csv.gz'"
   ]
  },
  {
   "cell_type": "code",
   "execution_count": 3,
   "metadata": {},
   "outputs": [],
   "source": [
    "data = pd.read_csv(data_url, nrows=10)"
   ]
  },
  {
   "cell_type": "code",
   "execution_count": 5,
   "metadata": {},
   "outputs": [
    {
     "data": {
      "text/html": "<div>\n<style scoped>\n    .dataframe tbody tr th:only-of-type {\n        vertical-align: middle;\n    }\n\n    .dataframe tbody tr th {\n        vertical-align: top;\n    }\n\n    .dataframe thead th {\n        text-align: right;\n    }\n</style>\n<table border=\"1\" class=\"dataframe\">\n  <thead>\n    <tr style=\"text-align: right;\">\n      <th></th>\n      <th>Date/Time</th>\n      <th>Lat</th>\n      <th>Lon</th>\n      <th>Base</th>\n    </tr>\n  </thead>\n  <tbody>\n    <tr>\n      <th>0</th>\n      <td>9/1/2014 0:01:00</td>\n      <td>40.2201</td>\n      <td>-74.0021</td>\n      <td>B02512</td>\n    </tr>\n    <tr>\n      <th>1</th>\n      <td>9/1/2014 0:01:00</td>\n      <td>40.7500</td>\n      <td>-74.0027</td>\n      <td>B02512</td>\n    </tr>\n    <tr>\n      <th>2</th>\n      <td>9/1/2014 0:03:00</td>\n      <td>40.7559</td>\n      <td>-73.9864</td>\n      <td>B02512</td>\n    </tr>\n    <tr>\n      <th>3</th>\n      <td>9/1/2014 0:06:00</td>\n      <td>40.7450</td>\n      <td>-73.9889</td>\n      <td>B02512</td>\n    </tr>\n    <tr>\n      <th>4</th>\n      <td>9/1/2014 0:11:00</td>\n      <td>40.8145</td>\n      <td>-73.9444</td>\n      <td>B02512</td>\n    </tr>\n    <tr>\n      <th>5</th>\n      <td>9/1/2014 0:12:00</td>\n      <td>40.6735</td>\n      <td>-73.9918</td>\n      <td>B02512</td>\n    </tr>\n    <tr>\n      <th>6</th>\n      <td>9/1/2014 0:15:00</td>\n      <td>40.7471</td>\n      <td>-73.6472</td>\n      <td>B02512</td>\n    </tr>\n    <tr>\n      <th>7</th>\n      <td>9/1/2014 0:16:00</td>\n      <td>40.6613</td>\n      <td>-74.2691</td>\n      <td>B02512</td>\n    </tr>\n    <tr>\n      <th>8</th>\n      <td>9/1/2014 0:32:00</td>\n      <td>40.3745</td>\n      <td>-73.9999</td>\n      <td>B02512</td>\n    </tr>\n    <tr>\n      <th>9</th>\n      <td>9/1/2014 0:33:00</td>\n      <td>40.7633</td>\n      <td>-73.9773</td>\n      <td>B02512</td>\n    </tr>\n  </tbody>\n</table>\n</div>",
      "text/plain": "          Date/Time      Lat      Lon    Base\n0  9/1/2014 0:01:00  40.2201 -74.0021  B02512\n1  9/1/2014 0:01:00  40.7500 -74.0027  B02512\n2  9/1/2014 0:03:00  40.7559 -73.9864  B02512\n3  9/1/2014 0:06:00  40.7450 -73.9889  B02512\n4  9/1/2014 0:11:00  40.8145 -73.9444  B02512\n5  9/1/2014 0:12:00  40.6735 -73.9918  B02512\n6  9/1/2014 0:15:00  40.7471 -73.6472  B02512\n7  9/1/2014 0:16:00  40.6613 -74.2691  B02512\n8  9/1/2014 0:32:00  40.3745 -73.9999  B02512\n9  9/1/2014 0:33:00  40.7633 -73.9773  B02512"
     },
     "execution_count": 5,
     "metadata": {},
     "output_type": "execute_result"
    }
   ],
   "source": [
    "data "
   ]
  },
  {
   "cell_type": "code",
   "execution_count": 6,
   "metadata": {},
   "outputs": [
    {
     "data": {
      "text/html": "<div>\n<style scoped>\n    .dataframe tbody tr th:only-of-type {\n        vertical-align: middle;\n    }\n\n    .dataframe tbody tr th {\n        vertical-align: top;\n    }\n\n    .dataframe thead th {\n        text-align: right;\n    }\n</style>\n<table border=\"1\" class=\"dataframe\">\n  <thead>\n    <tr style=\"text-align: right;\">\n      <th></th>\n      <th>Lat</th>\n      <th>Lon</th>\n    </tr>\n  </thead>\n  <tbody>\n    <tr>\n      <th>count</th>\n      <td>10.000000</td>\n      <td>10.000000</td>\n    </tr>\n    <tr>\n      <th>mean</th>\n      <td>40.650520</td>\n      <td>-73.980980</td>\n    </tr>\n    <tr>\n      <th>std</th>\n      <td>0.194638</td>\n      <td>0.148046</td>\n    </tr>\n    <tr>\n      <th>min</th>\n      <td>40.220100</td>\n      <td>-74.269100</td>\n    </tr>\n    <tr>\n      <th>25%</th>\n      <td>40.664350</td>\n      <td>-74.001550</td>\n    </tr>\n    <tr>\n      <th>50%</th>\n      <td>40.746050</td>\n      <td>-73.990350</td>\n    </tr>\n    <tr>\n      <th>75%</th>\n      <td>40.754425</td>\n      <td>-73.979575</td>\n    </tr>\n    <tr>\n      <th>max</th>\n      <td>40.814500</td>\n      <td>-73.647200</td>\n    </tr>\n  </tbody>\n</table>\n</div>",
      "text/plain": "             Lat        Lon\ncount  10.000000  10.000000\nmean   40.650520 -73.980980\nstd     0.194638   0.148046\nmin    40.220100 -74.269100\n25%    40.664350 -74.001550\n50%    40.746050 -73.990350\n75%    40.754425 -73.979575\nmax    40.814500 -73.647200"
     },
     "execution_count": 6,
     "metadata": {},
     "output_type": "execute_result"
    }
   ],
   "source": [
    "data.describe()"
   ]
  },
  {
   "cell_type": "code",
   "execution_count": null,
   "metadata": {},
   "outputs": [],
   "source": []
  }
 ],
 "metadata": {
  "kernelspec": {
   "display_name": "Python 3.7.7 64-bit ('dataScience': conda)",
   "name": "python377jvsc74a57bd088212c6b79be9b544bafe6735d74fe8c206b1cc2a4f62e98b323686df1ed5be2"
  },
  "language_info": {
   "name": "python",
   "version": ""
  },
  "orig_nbformat": 2
 },
 "nbformat": 4,
 "nbformat_minor": 2
}